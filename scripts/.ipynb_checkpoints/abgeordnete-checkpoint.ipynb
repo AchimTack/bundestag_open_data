{
 "cells": [
  {
   "cell_type": "markdown",
   "metadata": {
    "heading_collapsed": true
   },
   "source": [
    "# Abgeordnete (Stammdatenanalyse)"
   ]
  },
  {
   "cell_type": "markdown",
   "metadata": {
    "hidden": true
   },
   "source": [
    "Auswertung von Abgeordnetenstammdaten aus dem Open-Data Portal des Bundestages"
   ]
  },
  {
   "cell_type": "markdown",
   "metadata": {
    "heading_collapsed": true,
    "hidden": true
   },
   "source": [
    "## imports & variables"
   ]
  },
  {
   "cell_type": "code",
   "execution_count": 255,
   "metadata": {
    "hidden": true
   },
   "outputs": [],
   "source": [
    "import requests\n",
    "import zipfile\n",
    "import os\n",
    "import shutil\n",
    "import pandas as pd\n",
    "import xml.etree.ElementTree as et\n",
    "import pandas_profiling"
   ]
  },
  {
   "cell_type": "code",
   "execution_count": 256,
   "metadata": {
    "collapsed": true,
    "hidden": true
   },
   "outputs": [],
   "source": [
    "folder_data = '../data'\n",
    "file_download = 'mdb-stammdaten-data.zip'\n",
    "file_xml = os.path.join(folder_data,'MDB_STAMMDATEN.XML')"
   ]
  },
  {
   "cell_type": "markdown",
   "metadata": {
    "heading_collapsed": true,
    "hidden": true
   },
   "source": [
    "## data prep"
   ]
  },
  {
   "cell_type": "markdown",
   "metadata": {
    "heading_collapsed": true,
    "hidden": true
   },
   "source": [
    "### data download & deflate to data folder"
   ]
  },
  {
   "cell_type": "code",
   "execution_count": 257,
   "metadata": {
    "hidden": true
   },
   "outputs": [],
   "source": [
    "try:\n",
    "    shutil.rmtree(folder_data)\n",
    "except:\n",
    "    pass\n",
    "os.makedirs(folder_data)"
   ]
  },
  {
   "cell_type": "code",
   "execution_count": 258,
   "metadata": {
    "hidden": true
   },
   "outputs": [],
   "source": [
    "url = 'https://www.bundestag.de/blob/472878/c1a07a64c9ea8c687df6634f2d9d805b/mdb-stammdaten-data.zip'\n",
    "r = requests.get(url)\n",
    "with open(os.path.join(folder_data, file_download), \"wb\") as data_zip:\n",
    "    data_zip.write(r.content)"
   ]
  },
  {
   "cell_type": "code",
   "execution_count": 259,
   "metadata": {
    "hidden": true
   },
   "outputs": [],
   "source": [
    "zip_ref = zipfile.ZipFile(\"../data/mdb-stammdaten-data.zip\", 'r')\n",
    "zip_ref.extractall(\"../data/\")\n",
    "zip_ref.close()"
   ]
  },
  {
   "cell_type": "markdown",
   "metadata": {
    "heading_collapsed": true,
    "hidden": true
   },
   "source": [
    "### parse xml and add relevant params to mdb_list"
   ]
  },
  {
   "cell_type": "code",
   "execution_count": 260,
   "metadata": {
    "hidden": true
   },
   "outputs": [],
   "source": [
    "tree = et.parse(file_xml)  \n",
    "root = tree.getroot()"
   ]
  },
  {
   "cell_type": "code",
   "execution_count": 261,
   "metadata": {
    "hidden": true
   },
   "outputs": [],
   "source": [
    "mdb_list = []\n",
    "for mdb in root[1:]:\n",
    "    mdb_id =  mdb[0].text\n",
    "    nachname = mdb[1][0][0].text\n",
    "    vorname = mdb[1][0][1].text\n",
    "    geburtsdatum = mdb[2][0].text\n",
    "    geburtsort = mdb[2][1].text\n",
    "    sterbedatum = mdb[2][3].text\n",
    "    geschlecht = mdb[2][4].text\n",
    "    familienstand = mdb[2][5].text\n",
    "    religion = mdb[2][6].text\n",
    "    beruf = mdb[2][7].text\n",
    "    partei = mdb[2][8].text\n",
    "    \n",
    "    mdb_values = (\n",
    "        mdb_id, \n",
    "        nachname, \n",
    "        vorname, \n",
    "        geburtsdatum, \n",
    "        geburtsort, \n",
    "        sterbedatum, \n",
    "        geschlecht,\n",
    "        familienstand,\n",
    "        religion,\n",
    "        beruf,\n",
    "        partei)\n",
    "    \n",
    "    mdb_list.append(mdb_values)"
   ]
  },
  {
   "cell_type": "markdown",
   "metadata": {
    "heading_collapsed": true,
    "hidden": true
   },
   "source": [
    "### mdb_list to dataframe"
   ]
  },
  {
   "cell_type": "code",
   "execution_count": 264,
   "metadata": {
    "hidden": true
   },
   "outputs": [],
   "source": [
    "labels = [\n",
    "    'mdb_id', \n",
    "    'nachname', \n",
    "    'vorname', \n",
    "    'geburtsdatum', \n",
    "    'geburtsort', \n",
    "    'sterbedatum', \n",
    "    'geschlecht',\n",
    "    'familienstand',\n",
    "    'religion',\n",
    "    'beruf',\n",
    "    'partei'\n",
    "    ]\n",
    "df = pd.DataFrame.from_records(mdb_list, columns=labels, index = 'mdb_id')"
   ]
  },
  {
   "cell_type": "markdown",
   "metadata": {
    "hidden": true
   },
   "source": [
    "## data analysis"
   ]
  },
  {
   "cell_type": "code",
   "execution_count": 272,
   "metadata": {
    "hidden": true
   },
   "outputs": [
    {
     "data": {
      "text/html": [
       "<div>\n",
       "<style>\n",
       "    .dataframe thead tr:only-child th {\n",
       "        text-align: right;\n",
       "    }\n",
       "\n",
       "    .dataframe thead th {\n",
       "        text-align: left;\n",
       "    }\n",
       "\n",
       "    .dataframe tbody tr th {\n",
       "        vertical-align: top;\n",
       "    }\n",
       "</style>\n",
       "<table border=\"1\" class=\"dataframe\">\n",
       "  <thead>\n",
       "    <tr style=\"text-align: right;\">\n",
       "      <th></th>\n",
       "      <th>nachname</th>\n",
       "      <th>vorname</th>\n",
       "      <th>geburtsdatum</th>\n",
       "      <th>geburtsort</th>\n",
       "      <th>sterbedatum</th>\n",
       "      <th>geschlecht</th>\n",
       "      <th>familienstand</th>\n",
       "      <th>religion</th>\n",
       "      <th>beruf</th>\n",
       "      <th>partei</th>\n",
       "    </tr>\n",
       "    <tr>\n",
       "      <th>mdb_id</th>\n",
       "      <th></th>\n",
       "      <th></th>\n",
       "      <th></th>\n",
       "      <th></th>\n",
       "      <th></th>\n",
       "      <th></th>\n",
       "      <th></th>\n",
       "      <th></th>\n",
       "      <th></th>\n",
       "      <th></th>\n",
       "    </tr>\n",
       "  </thead>\n",
       "  <tbody>\n",
       "    <tr>\n",
       "      <th>11000001</th>\n",
       "      <td>Abelein</td>\n",
       "      <td>Manfred</td>\n",
       "      <td>20.10.1930</td>\n",
       "      <td>Stuttgart</td>\n",
       "      <td>17.01.2008</td>\n",
       "      <td>männlich</td>\n",
       "      <td>keine Angaben</td>\n",
       "      <td>katholisch</td>\n",
       "      <td>Rechtsanwalt, Wirtschaftsprüfer, Universitätsp...</td>\n",
       "      <td>CDU</td>\n",
       "    </tr>\n",
       "    <tr>\n",
       "      <th>11000002</th>\n",
       "      <td>Achenbach</td>\n",
       "      <td>Ernst</td>\n",
       "      <td>09.04.1909</td>\n",
       "      <td>Siegen</td>\n",
       "      <td>02.12.1991</td>\n",
       "      <td>männlich</td>\n",
       "      <td>verheiratet, 3 Kinder</td>\n",
       "      <td>evangelisch</td>\n",
       "      <td>Rechtsanwalt und Notar</td>\n",
       "      <td>FDP</td>\n",
       "    </tr>\n",
       "    <tr>\n",
       "      <th>11000003</th>\n",
       "      <td>Ackermann</td>\n",
       "      <td>Annemarie</td>\n",
       "      <td>26.05.1913</td>\n",
       "      <td>Parabutsch</td>\n",
       "      <td>18.02.1994</td>\n",
       "      <td>weiblich</td>\n",
       "      <td>verheiratet, 5 Kinder</td>\n",
       "      <td>katholisch</td>\n",
       "      <td>Hilfsreferentin</td>\n",
       "      <td>CDU</td>\n",
       "    </tr>\n",
       "    <tr>\n",
       "      <th>11000004</th>\n",
       "      <td>Ackermann</td>\n",
       "      <td>Else</td>\n",
       "      <td>06.11.1933</td>\n",
       "      <td>Berlin</td>\n",
       "      <td>None</td>\n",
       "      <td>weiblich</td>\n",
       "      <td>ledig</td>\n",
       "      <td>evangelisch</td>\n",
       "      <td>Ärztin</td>\n",
       "      <td>CDU</td>\n",
       "    </tr>\n",
       "    <tr>\n",
       "      <th>11000005</th>\n",
       "      <td>Adam</td>\n",
       "      <td>Ulrich</td>\n",
       "      <td>09.06.1950</td>\n",
       "      <td>Teterow, Kr. Teterow, Bezirk Neubrandenburg</td>\n",
       "      <td>None</td>\n",
       "      <td>männlich</td>\n",
       "      <td>verheiratet, 2 Kinder</td>\n",
       "      <td>evangelisch</td>\n",
       "      <td>Mathematiker, Geschäftsführer</td>\n",
       "      <td>CDU</td>\n",
       "    </tr>\n",
       "  </tbody>\n",
       "</table>\n",
       "</div>"
      ],
      "text/plain": [
       "           nachname    vorname geburtsdatum  \\\n",
       "mdb_id                                        \n",
       "11000001    Abelein    Manfred   20.10.1930   \n",
       "11000002  Achenbach      Ernst   09.04.1909   \n",
       "11000003  Ackermann  Annemarie   26.05.1913   \n",
       "11000004  Ackermann       Else   06.11.1933   \n",
       "11000005       Adam     Ulrich   09.06.1950   \n",
       "\n",
       "                                           geburtsort sterbedatum geschlecht  \\\n",
       "mdb_id                                                                         \n",
       "11000001                                    Stuttgart  17.01.2008   männlich   \n",
       "11000002                                       Siegen  02.12.1991   männlich   \n",
       "11000003                                   Parabutsch  18.02.1994   weiblich   \n",
       "11000004                                       Berlin        None   weiblich   \n",
       "11000005  Teterow, Kr. Teterow, Bezirk Neubrandenburg        None   männlich   \n",
       "\n",
       "                  familienstand     religion  \\\n",
       "mdb_id                                         \n",
       "11000001          keine Angaben   katholisch   \n",
       "11000002  verheiratet, 3 Kinder  evangelisch   \n",
       "11000003  verheiratet, 5 Kinder   katholisch   \n",
       "11000004                  ledig  evangelisch   \n",
       "11000005  verheiratet, 2 Kinder  evangelisch   \n",
       "\n",
       "                                                      beruf partei  \n",
       "mdb_id                                                              \n",
       "11000001  Rechtsanwalt, Wirtschaftsprüfer, Universitätsp...    CDU  \n",
       "11000002                             Rechtsanwalt und Notar    FDP  \n",
       "11000003                                    Hilfsreferentin    CDU  \n",
       "11000004                                             Ärztin    CDU  \n",
       "11000005                      Mathematiker, Geschäftsführer    CDU  "
      ]
     },
     "execution_count": 272,
     "metadata": {},
     "output_type": "execute_result"
    }
   ],
   "source": [
    "df.head()"
   ]
  },
  {
   "cell_type": "code",
   "execution_count": 273,
   "metadata": {
    "hidden": true
   },
   "outputs": [
    {
     "data": {
      "text/html": [
       "<div>\n",
       "<style>\n",
       "    .dataframe thead tr:only-child th {\n",
       "        text-align: right;\n",
       "    }\n",
       "\n",
       "    .dataframe thead th {\n",
       "        text-align: left;\n",
       "    }\n",
       "\n",
       "    .dataframe tbody tr th {\n",
       "        vertical-align: top;\n",
       "    }\n",
       "</style>\n",
       "<table border=\"1\" class=\"dataframe\">\n",
       "  <thead>\n",
       "    <tr style=\"text-align: right;\">\n",
       "      <th></th>\n",
       "      <th>nachname</th>\n",
       "      <th>vorname</th>\n",
       "      <th>geburtsdatum</th>\n",
       "      <th>geburtsort</th>\n",
       "      <th>sterbedatum</th>\n",
       "      <th>geschlecht</th>\n",
       "      <th>familienstand</th>\n",
       "      <th>religion</th>\n",
       "      <th>beruf</th>\n",
       "      <th>partei</th>\n",
       "    </tr>\n",
       "  </thead>\n",
       "  <tbody>\n",
       "    <tr>\n",
       "      <th>count</th>\n",
       "      <td>4073</td>\n",
       "      <td>4073</td>\n",
       "      <td>4073</td>\n",
       "      <td>4071</td>\n",
       "      <td>1767</td>\n",
       "      <td>4073</td>\n",
       "      <td>3990</td>\n",
       "      <td>3847</td>\n",
       "      <td>4073</td>\n",
       "      <td>4070</td>\n",
       "    </tr>\n",
       "    <tr>\n",
       "      <th>unique</th>\n",
       "      <td>3262</td>\n",
       "      <td>1002</td>\n",
       "      <td>3834</td>\n",
       "      <td>2176</td>\n",
       "      <td>1690</td>\n",
       "      <td>2</td>\n",
       "      <td>59</td>\n",
       "      <td>22</td>\n",
       "      <td>2168</td>\n",
       "      <td>27</td>\n",
       "    </tr>\n",
       "    <tr>\n",
       "      <th>top</th>\n",
       "      <td>Müller</td>\n",
       "      <td>Hans</td>\n",
       "      <td>23.02.1943</td>\n",
       "      <td>Berlin</td>\n",
       "      <td>26.01.2015</td>\n",
       "      <td>männlich</td>\n",
       "      <td>verheiratet, 2 Kinder</td>\n",
       "      <td>ohne Angaben</td>\n",
       "      <td>Rechtsanwalt</td>\n",
       "      <td>CDU</td>\n",
       "    </tr>\n",
       "    <tr>\n",
       "      <th>freq</th>\n",
       "      <td>45</td>\n",
       "      <td>74</td>\n",
       "      <td>4</td>\n",
       "      <td>174</td>\n",
       "      <td>3</td>\n",
       "      <td>3223</td>\n",
       "      <td>921</td>\n",
       "      <td>1216</td>\n",
       "      <td>193</td>\n",
       "      <td>1347</td>\n",
       "    </tr>\n",
       "  </tbody>\n",
       "</table>\n",
       "</div>"
      ],
      "text/plain": [
       "       nachname vorname geburtsdatum geburtsort sterbedatum geschlecht  \\\n",
       "count      4073    4073         4073       4071        1767       4073   \n",
       "unique     3262    1002         3834       2176        1690          2   \n",
       "top      Müller    Hans   23.02.1943     Berlin  26.01.2015   männlich   \n",
       "freq         45      74            4        174           3       3223   \n",
       "\n",
       "                familienstand      religion         beruf partei  \n",
       "count                    3990          3847          4073   4070  \n",
       "unique                     59            22          2168     27  \n",
       "top     verheiratet, 2 Kinder  ohne Angaben  Rechtsanwalt    CDU  \n",
       "freq                      921          1216           193   1347  "
      ]
     },
     "execution_count": 273,
     "metadata": {},
     "output_type": "execute_result"
    }
   ],
   "source": [
    "df.describe()"
   ]
  },
  {
   "cell_type": "code",
   "execution_count": null,
   "metadata": {
    "collapsed": true,
    "hidden": true
   },
   "outputs": [],
   "source": []
  }
 ],
 "metadata": {
  "kernelspec": {
   "display_name": "Python 2",
   "language": "python",
   "name": "python2"
  },
  "language_info": {
   "codemirror_mode": {
    "name": "ipython",
    "version": 2
   },
   "file_extension": ".py",
   "mimetype": "text/x-python",
   "name": "python",
   "nbconvert_exporter": "python",
   "pygments_lexer": "ipython2",
   "version": "2.7.14"
  }
 },
 "nbformat": 4,
 "nbformat_minor": 2
}
