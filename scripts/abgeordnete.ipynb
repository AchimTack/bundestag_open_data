{
 "cells": [
  {
   "cell_type": "markdown",
   "metadata": {},
   "source": [
    "# Abgeordnete (Stammdatenanalyse)"
   ]
  },
  {
   "cell_type": "markdown",
   "metadata": {},
   "source": [
    "Kleine Auswertung von Abgeordnetenstammdaten aus dem Open-Data Portal des Bundestages"
   ]
  },
  {
   "cell_type": "markdown",
   "metadata": {
    "heading_collapsed": true
   },
   "source": [
    "## imports & variables"
   ]
  },
  {
   "cell_type": "code",
   "execution_count": 340,
   "metadata": {
    "hidden": true
   },
   "outputs": [],
   "source": [
    "import requests\n",
    "import zipfile\n",
    "import os\n",
    "import shutil\n",
    "import pandas as pd\n",
    "import xml.etree.ElementTree as et\n",
    "import pandas_profiling\n",
    "import matplotlib.pyplot as plt\n",
    "%matplotlib inline\n",
    "import seaborn as sns\n",
    "sns.set(rc={'figure.figsize':(11.7,8.27)})"
   ]
  },
  {
   "cell_type": "code",
   "execution_count": 312,
   "metadata": {
    "collapsed": true,
    "hidden": true
   },
   "outputs": [],
   "source": [
    "folder_data = '../data'\n",
    "file_download = 'mdb-stammdaten-data.zip'\n",
    "file_xml = os.path.join(folder_data,'MDB_STAMMDATEN.XML')"
   ]
  },
  {
   "cell_type": "markdown",
   "metadata": {},
   "source": [
    "## data prep"
   ]
  },
  {
   "cell_type": "markdown",
   "metadata": {
    "heading_collapsed": true
   },
   "source": [
    "### data download & deflate to data folder"
   ]
  },
  {
   "cell_type": "code",
   "execution_count": 313,
   "metadata": {
    "hidden": true
   },
   "outputs": [],
   "source": [
    "try:\n",
    "    shutil.rmtree(folder_data)\n",
    "except:\n",
    "    pass\n",
    "os.makedirs(folder_data)"
   ]
  },
  {
   "cell_type": "code",
   "execution_count": 314,
   "metadata": {
    "hidden": true
   },
   "outputs": [],
   "source": [
    "url = 'https://www.bundestag.de/blob/472878/c1a07a64c9ea8c687df6634f2d9d805b/mdb-stammdaten-data.zip'\n",
    "r = requests.get(url)\n",
    "with open(os.path.join(folder_data, file_download), \"wb\") as data_zip:\n",
    "    data_zip.write(r.content)"
   ]
  },
  {
   "cell_type": "code",
   "execution_count": 315,
   "metadata": {
    "hidden": true
   },
   "outputs": [],
   "source": [
    "zip_ref = zipfile.ZipFile(\"../data/mdb-stammdaten-data.zip\", 'r')\n",
    "zip_ref.extractall(\"../data/\")\n",
    "zip_ref.close()"
   ]
  },
  {
   "cell_type": "markdown",
   "metadata": {
    "heading_collapsed": true
   },
   "source": [
    "### parse xml and add relevant params to mdb_list"
   ]
  },
  {
   "cell_type": "code",
   "execution_count": 316,
   "metadata": {
    "hidden": true
   },
   "outputs": [],
   "source": [
    "tree = et.parse(file_xml)  \n",
    "root = tree.getroot()"
   ]
  },
  {
   "cell_type": "code",
   "execution_count": 317,
   "metadata": {
    "hidden": true
   },
   "outputs": [],
   "source": [
    "mdb_list = []\n",
    "for mdb in root[1:]:\n",
    "    mdb_id =  mdb[0].text\n",
    "    nachname = mdb[1][0][0].text\n",
    "    vorname = mdb[1][0][1].text\n",
    "    geburtsdatum = mdb[2][0].text\n",
    "    geburtsort = mdb[2][1].text\n",
    "    sterbedatum = mdb[2][3].text\n",
    "    geschlecht = mdb[2][4].text\n",
    "    familienstand = mdb[2][5].text\n",
    "    religion = mdb[2][6].text\n",
    "    beruf = mdb[2][7].text\n",
    "    partei = mdb[2][8].text\n",
    "    \n",
    "    mdb_values = (\n",
    "        mdb_id, \n",
    "        nachname, \n",
    "        vorname, \n",
    "        geburtsdatum, \n",
    "        geburtsort, \n",
    "        sterbedatum, \n",
    "        geschlecht,\n",
    "        familienstand,\n",
    "        religion,\n",
    "        beruf,\n",
    "        partei)\n",
    "    \n",
    "    mdb_list.append(mdb_values)"
   ]
  },
  {
   "cell_type": "markdown",
   "metadata": {
    "heading_collapsed": true
   },
   "source": [
    "### mdb_list to dataframe"
   ]
  },
  {
   "cell_type": "code",
   "execution_count": 318,
   "metadata": {
    "hidden": true
   },
   "outputs": [],
   "source": [
    "labels = [\n",
    "    'mdb_id', \n",
    "    'nachname', \n",
    "    'vorname', \n",
    "    'geburtsdatum', \n",
    "    'geburtsort', \n",
    "    'sterbedatum', \n",
    "    'geschlecht',\n",
    "    'familienstand',\n",
    "    'religion',\n",
    "    'beruf',\n",
    "    'partei'\n",
    "    ]\n",
    "df = pd.DataFrame.from_records(mdb_list, columns=labels)"
   ]
  },
  {
   "cell_type": "markdown",
   "metadata": {},
   "source": [
    "## data analysis"
   ]
  },
  {
   "cell_type": "markdown",
   "metadata": {
    "heading_collapsed": true
   },
   "source": [
    "### overview"
   ]
  },
  {
   "cell_type": "code",
   "execution_count": 319,
   "metadata": {
    "hidden": true
   },
   "outputs": [
    {
     "data": {
      "text/html": [
       "<div>\n",
       "<style>\n",
       "    .dataframe thead tr:only-child th {\n",
       "        text-align: right;\n",
       "    }\n",
       "\n",
       "    .dataframe thead th {\n",
       "        text-align: left;\n",
       "    }\n",
       "\n",
       "    .dataframe tbody tr th {\n",
       "        vertical-align: top;\n",
       "    }\n",
       "</style>\n",
       "<table border=\"1\" class=\"dataframe\">\n",
       "  <thead>\n",
       "    <tr style=\"text-align: right;\">\n",
       "      <th></th>\n",
       "      <th>mdb_id</th>\n",
       "      <th>nachname</th>\n",
       "      <th>vorname</th>\n",
       "      <th>geburtsdatum</th>\n",
       "      <th>geburtsort</th>\n",
       "      <th>sterbedatum</th>\n",
       "      <th>geschlecht</th>\n",
       "      <th>familienstand</th>\n",
       "      <th>religion</th>\n",
       "      <th>beruf</th>\n",
       "      <th>partei</th>\n",
       "    </tr>\n",
       "  </thead>\n",
       "  <tbody>\n",
       "    <tr>\n",
       "      <th>0</th>\n",
       "      <td>11000001</td>\n",
       "      <td>Abelein</td>\n",
       "      <td>Manfred</td>\n",
       "      <td>20.10.1930</td>\n",
       "      <td>Stuttgart</td>\n",
       "      <td>17.01.2008</td>\n",
       "      <td>männlich</td>\n",
       "      <td>keine Angaben</td>\n",
       "      <td>katholisch</td>\n",
       "      <td>Rechtsanwalt, Wirtschaftsprüfer, Universitätsp...</td>\n",
       "      <td>CDU</td>\n",
       "    </tr>\n",
       "    <tr>\n",
       "      <th>1</th>\n",
       "      <td>11000002</td>\n",
       "      <td>Achenbach</td>\n",
       "      <td>Ernst</td>\n",
       "      <td>09.04.1909</td>\n",
       "      <td>Siegen</td>\n",
       "      <td>02.12.1991</td>\n",
       "      <td>männlich</td>\n",
       "      <td>verheiratet, 3 Kinder</td>\n",
       "      <td>evangelisch</td>\n",
       "      <td>Rechtsanwalt und Notar</td>\n",
       "      <td>FDP</td>\n",
       "    </tr>\n",
       "    <tr>\n",
       "      <th>2</th>\n",
       "      <td>11000003</td>\n",
       "      <td>Ackermann</td>\n",
       "      <td>Annemarie</td>\n",
       "      <td>26.05.1913</td>\n",
       "      <td>Parabutsch</td>\n",
       "      <td>18.02.1994</td>\n",
       "      <td>weiblich</td>\n",
       "      <td>verheiratet, 5 Kinder</td>\n",
       "      <td>katholisch</td>\n",
       "      <td>Hilfsreferentin</td>\n",
       "      <td>CDU</td>\n",
       "    </tr>\n",
       "    <tr>\n",
       "      <th>3</th>\n",
       "      <td>11000004</td>\n",
       "      <td>Ackermann</td>\n",
       "      <td>Else</td>\n",
       "      <td>06.11.1933</td>\n",
       "      <td>Berlin</td>\n",
       "      <td>None</td>\n",
       "      <td>weiblich</td>\n",
       "      <td>ledig</td>\n",
       "      <td>evangelisch</td>\n",
       "      <td>Ärztin</td>\n",
       "      <td>CDU</td>\n",
       "    </tr>\n",
       "    <tr>\n",
       "      <th>4</th>\n",
       "      <td>11000005</td>\n",
       "      <td>Adam</td>\n",
       "      <td>Ulrich</td>\n",
       "      <td>09.06.1950</td>\n",
       "      <td>Teterow, Kr. Teterow, Bezirk Neubrandenburg</td>\n",
       "      <td>None</td>\n",
       "      <td>männlich</td>\n",
       "      <td>verheiratet, 2 Kinder</td>\n",
       "      <td>evangelisch</td>\n",
       "      <td>Mathematiker, Geschäftsführer</td>\n",
       "      <td>CDU</td>\n",
       "    </tr>\n",
       "  </tbody>\n",
       "</table>\n",
       "</div>"
      ],
      "text/plain": [
       "     mdb_id   nachname    vorname geburtsdatum  \\\n",
       "0  11000001    Abelein    Manfred   20.10.1930   \n",
       "1  11000002  Achenbach      Ernst   09.04.1909   \n",
       "2  11000003  Ackermann  Annemarie   26.05.1913   \n",
       "3  11000004  Ackermann       Else   06.11.1933   \n",
       "4  11000005       Adam     Ulrich   09.06.1950   \n",
       "\n",
       "                                    geburtsort sterbedatum geschlecht  \\\n",
       "0                                    Stuttgart  17.01.2008   männlich   \n",
       "1                                       Siegen  02.12.1991   männlich   \n",
       "2                                   Parabutsch  18.02.1994   weiblich   \n",
       "3                                       Berlin        None   weiblich   \n",
       "4  Teterow, Kr. Teterow, Bezirk Neubrandenburg        None   männlich   \n",
       "\n",
       "           familienstand     religion  \\\n",
       "0          keine Angaben   katholisch   \n",
       "1  verheiratet, 3 Kinder  evangelisch   \n",
       "2  verheiratet, 5 Kinder   katholisch   \n",
       "3                  ledig  evangelisch   \n",
       "4  verheiratet, 2 Kinder  evangelisch   \n",
       "\n",
       "                                               beruf partei  \n",
       "0  Rechtsanwalt, Wirtschaftsprüfer, Universitätsp...    CDU  \n",
       "1                             Rechtsanwalt und Notar    FDP  \n",
       "2                                    Hilfsreferentin    CDU  \n",
       "3                                             Ärztin    CDU  \n",
       "4                      Mathematiker, Geschäftsführer    CDU  "
      ]
     },
     "execution_count": 319,
     "metadata": {},
     "output_type": "execute_result"
    }
   ],
   "source": [
    "df.head()"
   ]
  },
  {
   "cell_type": "code",
   "execution_count": 320,
   "metadata": {
    "hidden": true
   },
   "outputs": [
    {
     "data": {
      "text/html": [
       "<div>\n",
       "<style>\n",
       "    .dataframe thead tr:only-child th {\n",
       "        text-align: right;\n",
       "    }\n",
       "\n",
       "    .dataframe thead th {\n",
       "        text-align: left;\n",
       "    }\n",
       "\n",
       "    .dataframe tbody tr th {\n",
       "        vertical-align: top;\n",
       "    }\n",
       "</style>\n",
       "<table border=\"1\" class=\"dataframe\">\n",
       "  <thead>\n",
       "    <tr style=\"text-align: right;\">\n",
       "      <th></th>\n",
       "      <th>mdb_id</th>\n",
       "      <th>nachname</th>\n",
       "      <th>vorname</th>\n",
       "      <th>geburtsdatum</th>\n",
       "      <th>geburtsort</th>\n",
       "      <th>sterbedatum</th>\n",
       "      <th>geschlecht</th>\n",
       "      <th>familienstand</th>\n",
       "      <th>religion</th>\n",
       "      <th>beruf</th>\n",
       "      <th>partei</th>\n",
       "    </tr>\n",
       "  </thead>\n",
       "  <tbody>\n",
       "    <tr>\n",
       "      <th>count</th>\n",
       "      <td>4073</td>\n",
       "      <td>4073</td>\n",
       "      <td>4073</td>\n",
       "      <td>4073</td>\n",
       "      <td>4071</td>\n",
       "      <td>1767</td>\n",
       "      <td>4073</td>\n",
       "      <td>3990</td>\n",
       "      <td>3847</td>\n",
       "      <td>4073</td>\n",
       "      <td>4070</td>\n",
       "    </tr>\n",
       "    <tr>\n",
       "      <th>unique</th>\n",
       "      <td>4073</td>\n",
       "      <td>3262</td>\n",
       "      <td>1002</td>\n",
       "      <td>3834</td>\n",
       "      <td>2176</td>\n",
       "      <td>1690</td>\n",
       "      <td>2</td>\n",
       "      <td>59</td>\n",
       "      <td>22</td>\n",
       "      <td>2168</td>\n",
       "      <td>27</td>\n",
       "    </tr>\n",
       "    <tr>\n",
       "      <th>top</th>\n",
       "      <td>11000009</td>\n",
       "      <td>Müller</td>\n",
       "      <td>Hans</td>\n",
       "      <td>23.02.1943</td>\n",
       "      <td>Berlin</td>\n",
       "      <td>26.01.2015</td>\n",
       "      <td>männlich</td>\n",
       "      <td>verheiratet, 2 Kinder</td>\n",
       "      <td>ohne Angaben</td>\n",
       "      <td>Rechtsanwalt</td>\n",
       "      <td>CDU</td>\n",
       "    </tr>\n",
       "    <tr>\n",
       "      <th>freq</th>\n",
       "      <td>1</td>\n",
       "      <td>45</td>\n",
       "      <td>74</td>\n",
       "      <td>4</td>\n",
       "      <td>174</td>\n",
       "      <td>3</td>\n",
       "      <td>3223</td>\n",
       "      <td>921</td>\n",
       "      <td>1216</td>\n",
       "      <td>193</td>\n",
       "      <td>1347</td>\n",
       "    </tr>\n",
       "  </tbody>\n",
       "</table>\n",
       "</div>"
      ],
      "text/plain": [
       "          mdb_id nachname vorname geburtsdatum geburtsort sterbedatum  \\\n",
       "count       4073     4073    4073         4073       4071        1767   \n",
       "unique      4073     3262    1002         3834       2176        1690   \n",
       "top     11000009   Müller    Hans   23.02.1943     Berlin  26.01.2015   \n",
       "freq           1       45      74            4        174           3   \n",
       "\n",
       "       geschlecht          familienstand      religion         beruf partei  \n",
       "count        4073                   3990          3847          4073   4070  \n",
       "unique          2                     59            22          2168     27  \n",
       "top      männlich  verheiratet, 2 Kinder  ohne Angaben  Rechtsanwalt    CDU  \n",
       "freq         3223                    921          1216           193   1347  "
      ]
     },
     "execution_count": 320,
     "metadata": {},
     "output_type": "execute_result"
    }
   ],
   "source": [
    "df.describe()"
   ]
  },
  {
   "cell_type": "markdown",
   "metadata": {
    "heading_collapsed": true
   },
   "source": [
    "### party frequency"
   ]
  },
  {
   "cell_type": "code",
   "execution_count": 341,
   "metadata": {
    "hidden": true
   },
   "outputs": [],
   "source": [
    "df_party = df.groupby('partei')['mdb_id'].nunique().sort_values()"
   ]
  },
  {
   "cell_type": "code",
   "execution_count": 346,
   "metadata": {
    "hidden": true
   },
   "outputs": [
    {
     "data": {
      "image/png": "[encoded data removed]",
      "text/plain": [
       "<matplotlib.figure.Figure at 0xd95cc160>"
      ]
     },
     "metadata": {},
     "output_type": "display_data"
    }
   ],
   "source": [
    "p = sns.countplot(data=df, x = 'partei', order = df['partei'].value_counts().index)\n",
    "for item in p.get_xticklabels():\n",
    "    item.set_rotation(90)\n",
    "plt.show()"
   ]
  },
  {
   "cell_type": "code",
   "execution_count": null,
   "metadata": {
    "collapsed": true,
    "hidden": true
   },
   "outputs": [],
   "source": []
  },
  {
   "cell_type": "markdown",
   "metadata": {},
   "source": [
    "### religion frequency"
   ]
  },
  {
   "cell_type": "code",
   "execution_count": 347,
   "metadata": {},
   "outputs": [
    {
     "data": {
      "image/png": "[encoded data removed]",
      "text/plain": [
       "<matplotlib.figure.Figure at 0xd96b74e0>"
      ]
     },
     "metadata": {},
     "output_type": "display_data"
    }
   ],
   "source": [
    "p = sns.countplot(data=df, x = 'religion', order = df['religion'].value_counts().index)\n",
    "for item in p.get_xticklabels():\n",
    "    item.set_rotation(90)\n",
    "plt.show()"
   ]
  },
  {
   "cell_type": "code",
   "execution_count": null,
   "metadata": {
    "collapsed": true
   },
   "outputs": [],
   "source": []
  }
 ],
 "metadata": {
  "kernelspec": {
   "display_name": "Python 2",
   "language": "python",
   "name": "python2"
  },
  "language_info": {
   "codemirror_mode": {
    "name": "ipython",
    "version": 2
   },
   "file_extension": ".py",
   "mimetype": "text/x-python",
   "name": "python",
   "nbconvert_exporter": "python",
   "pygments_lexer": "ipython2",
   "version": "2.7.14"
  }
 },
 "nbformat": 4,
 "nbformat_minor": 2
}
